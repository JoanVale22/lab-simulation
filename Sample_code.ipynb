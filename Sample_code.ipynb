{
  "nbformat": 4,
  "nbformat_minor": 0,
  "metadata": {
    "colab": {
      "provenance": [],
      "authorship_tag": "ABX9TyMPQZDxr3OT6zJPLwIxovhU",
      "include_colab_link": true
    },
    "kernelspec": {
      "name": "python3",
      "display_name": "Python 3"
    },
    "language_info": {
      "name": "python"
    }
  },
  "cells": [
    {
      "cell_type": "markdown",
      "metadata": {
        "id": "view-in-github",
        "colab_type": "text"
      },
      "source": [
        "<a href=\"https://colab.research.google.com/github/JoanVale22/lab-simulation/blob/main/Sample_code.ipynb\" target=\"_parent\"><img src=\"https://colab.research.google.com/assets/colab-badge.svg\" alt=\"Open In Colab\"/></a>"
      ]
    },
    {
      "cell_type": "code",
      "execution_count": null,
      "metadata": {
        "id": "cz9t5YLXvvP9"
      },
      "outputs": [],
      "source": [
        "#Install the required depndencies\n",
        "pip install tensorflow keras matplotlib numpy opendatasets\n"
      ]
    },
    {
      "cell_type": "code",
      "source": [
        "#Import required python libraries\n",
        "import tensorflow as tf\n",
        "import opendatasets as od\n",
        "import zipfile\n",
        "import os\n",
        "import shutil\n",
        "import matplotlib.pyplot as plt\n",
        "from tensorflow.keras.preprocessing.image import ImageDataGenerator\n",
        "\n",
        "# === STEP 1: DOWNLOAD & EXTRACT DATASET ===\n",
        "dataset_url = \"https://www.kaggle.com/datasets/paultimothymooney/chest-xray-pneumonia\"\n",
        "od.download(dataset_url)\n",
        "\n",
        "# Move extracted dataset to a simpler directory name\n",
        "if not os.path.exists(\"chest_xray\"):\n",
        "    shutil.move(\"chest-xray-pneumonia/chest_xray\", \"chest_xray\")\n",
        "\n",
        "train_dir = \"chest_xray/train\"\n",
        "val_dir = \"chest_xray/val\"\n",
        "test_dir = \"chest_xray/test\"\n",
        "\n",
        "# === STEP 2: DATA PREPROCESSING ===\n",
        "train_datagen = ImageDataGenerator(rescale=1./255, rotation_range=20, zoom_range=0.2, horizontal_flip=True)\n",
        "val_datagen = ImageDataGenerator(rescale=1./255)\n",
        "test_datagen = ImageDataGenerator(rescale=1./255)\n",
        "\n",
        "train_generator = train_datagen.flow_from_directory(train_dir, target_size=(224, 224), batch_size=32, class_mode='binary')\n",
        "val_generator = val_datagen.flow_from_directory(val_dir, target_size=(224, 224), batch_size=32, class_mode='binary')\n",
        "test_generator = test_datagen.flow_from_directory(test_dir, target_size=(224, 224), batch_size=32, class_mode='binary')\n",
        "\n",
        "# === STEP 3: LOAD PRETRAINED MODEL ===\n",
        "base_model = tf.keras.applications.MobileNetV2(input_shape=(224, 224, 3), include_top=False, weights=\"imagenet\")\n",
        "base_model.trainable = False  # Freeze base model\n",
        "\n",
        "model = tf.keras.Sequential([\n",
        "    base_model,\n",
        "    tf.keras.layers.GlobalAveragePooling2D(),\n",
        "    tf.keras.layers.Dense(128, activation='relu'),\n",
        "    tf.keras.layers.Dropout(0.3),\n",
        "    tf.keras.layers.Dense(1, activation='sigmoid')  # Binary classification (Pneumonia vs. Normal)\n",
        "])\n",
        "\n",
        "# === STEP 4: COMPILE & TRAIN MODEL ===\n",
        "model.compile(optimizer='adam', loss='binary_crossentropy', metrics=['accuracy'])\n",
        "\n",
        "history = model.fit(train_generator, validation_data=val_generator, epochs=5)\n",
        "\n",
        "# === STEP 5: EVALUATE MODEL ===\n",
        "test_loss, test_acc = model.evaluate(test_generator)\n",
        "print(f\"Test Accuracy: {test_acc:.4f}\")\n",
        "\n",
        "# === STEP 6: PLOT TRAINING PERFORMANCE ===\n",
        "plt.plot(history.history['accuracy'], label='Train Accuracy')\n",
        "plt.plot(history.history['val_accuracy'], label='Validation Accuracy')\n",
        "plt.xlabel('Epochs')\n",
        "plt.ylabel('Accuracy')\n",
        "plt.legend()\n",
        "plt.title(\"Training Performance\")\n",
        "plt.show()\n"
      ],
      "metadata": {
        "id": "jfxny0O7v1m8"
      },
      "execution_count": null,
      "outputs": []
    }
  ]
}