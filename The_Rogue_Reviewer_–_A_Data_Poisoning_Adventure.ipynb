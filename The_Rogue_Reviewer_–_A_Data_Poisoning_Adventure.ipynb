{
  "cells": [
    {
      "cell_type": "markdown",
      "metadata": {
        "id": "b4ut9oelgJ_I"
      },
      "source": [
        "** The Rogue Reviewer – A Data Poisoning Adventure**"
      ]
    },
    {
      "cell_type": "markdown",
      "metadata": {
        "id": "V-Aoog8rf_-D"
      },
      "source": [
        "Synopsis: You are a machine learning detective tasked with investigating a growing threat to sentiment analysis models. Reports suggest that an unknown entity, “The Rogue Reviewer,” has been injecting malicious data into public datasets. The goal? To undermine the integrity of AI systems and spread misinformation. Your mission is to analyze the attack, measure its impact, and implement defenses to thwart future sabotage attempts.\n"
      ]
    },
    {
      "cell_type": "markdown",
      "metadata": {
        "id": "X9JuIGy3CyB1"
      },
      "source": [
        "Act 1: The Calm Before the Storm\n",
        "\n",
        "---\n",
        "\n",
        "\n",
        "Task: Prepare a Clean Dataset\n",
        "\n",
        "\n"
      ]
    },
    {
      "cell_type": "markdown",
      "metadata": {
        "id": "aaWKuCT4O23I"
      },
      "source": [
        "You begin by working with a clean version of the IMDB dataset, a treasure trove of movie reviews with positive and negative sentiments. This dataset serves as your baseline, representing a pristine environment for training models. You carefully split it into training and testing sets, safeguarding the test set for an unbiased evaluation later."
      ]
    },
    {
      "cell_type": "code",
      "execution_count": null,
      "metadata": {
        "colab": {
          "base_uri": "https://localhost:8080/"
        },
        "id": "36cc7k4Xf41h",
        "outputId": "09f1ad94-8f13-4bdd-8077-252945330483"
      },
      "outputs": [
        {
          "output_type": "stream",
          "name": "stdout",
          "text": [
            "Downloading data from https://storage.googleapis.com/tensorflow/tf-keras-datasets/imdb.npz\n",
            "\u001b[1m17464789/17464789\u001b[0m \u001b[32m━━━━━━━━━━━━━━━━━━━━\u001b[0m\u001b[37m\u001b[0m \u001b[1m2s\u001b[0m 0us/step\n"
          ]
        }
      ],
      "source": [
        "from tensorflow.keras.datasets import imdb\n",
        "\n",
        "# Load IMDB dataset with predefined vocabulary size\n",
        "vocab_size = 10000  # Number of most frequent words to include\n",
        "(X_train, y_train), (X_test, y_test) = imdb.load_data(num_words=vocab_size)\n"
      ]
    },
    {
      "cell_type": "code",
      "execution_count": null,
      "metadata": {
        "colab": {
          "base_uri": "https://localhost:8080/"
        },
        "id": "qNchdjvCDJhx",
        "outputId": "4519e99c-863f-49d5-fffa-af0ade0bcecc"
      },
      "outputs": [
        {
          "output_type": "stream",
          "name": "stdout",
          "text": [
            "Training set size: 25000, Test set size: 25000\n",
            "Example review (encoded): [1, 14, 22, 16, 43, 530, 973, 1622, 1385, 65, 458, 4468, 66, 3941, 4, 173, 36, 256, 5, 25, 100, 43, 838, 112, 50, 670, 2, 9, 35, 480, 284, 5, 150, 4, 172, 112, 167, 2, 336, 385, 39, 4, 172, 4536, 1111, 17, 546, 38, 13, 447, 4, 192, 50, 16, 6, 147, 2025, 19, 14, 22, 4, 1920, 4613, 469, 4, 22, 71, 87, 12, 16, 43, 530, 38, 76, 15, 13, 1247, 4, 22, 17, 515, 17, 12, 16, 626, 18, 2, 5, 62, 386, 12, 8, 316, 8, 106, 5, 4, 2223, 5244, 16, 480, 66, 3785, 33, 4, 130, 12, 16, 38, 619, 5, 25, 124, 51, 36, 135, 48, 25, 1415, 33, 6, 22, 12, 215, 28, 77, 52, 5, 14, 407, 16, 82, 2, 8, 4, 107, 117, 5952, 15, 256, 4, 2, 7, 3766, 5, 723, 36, 71, 43, 530, 476, 26, 400, 317, 46, 7, 4, 2, 1029, 13, 104, 88, 4, 381, 15, 297, 98, 32, 2071, 56, 26, 141, 6, 194, 7486, 18, 4, 226, 22, 21, 134, 476, 26, 480, 5, 144, 30, 5535, 18, 51, 36, 28, 224, 92, 25, 104, 4, 226, 65, 16, 38, 1334, 88, 12, 16, 283, 5, 16, 4472, 113, 103, 32, 15, 16, 5345, 19, 178, 32]\n",
            "Corresponding label: 1\n"
          ]
        }
      ],
      "source": [
        "print(f\"Training set size: {len(X_train)}, Test set size: {len(X_test)}\")\n",
        "print(f\"Example review (encoded): {X_train[0]}\")\n",
        "print(f\"Corresponding label: {y_train[0]}\")  # 0: negative, 1: positive\n"
      ]
    },
    {
      "cell_type": "code",
      "execution_count": null,
      "metadata": {
        "id": "SPpird_GDL_0"
      },
      "outputs": [],
      "source": [
        "from tensorflow.keras.preprocessing.sequence import pad_sequences\n",
        "\n",
        "# Set a maximum review length\n",
        "max_length = 256\n",
        "\n",
        "# Pad sequences for uniform input length\n",
        "X_train = pad_sequences(X_train, maxlen=max_length, padding='post', truncating='post')\n",
        "X_test = pad_sequences(X_test, maxlen=max_length, padding='post', truncating='post')\n"
      ]
    },
    {
      "cell_type": "code",
      "execution_count": null,
      "metadata": {
        "colab": {
          "base_uri": "https://localhost:8080/"
        },
        "id": "i3DXTnHLDQnD",
        "outputId": "8eedfa35-fbe2-4f9e-8f88-5dcf342b39d1"
      },
      "outputs": [
        {
          "output_type": "stream",
          "name": "stdout",
          "text": [
            "Training set: 20000 samples\n",
            "Validation set: 5000 samples\n",
            "Test set: 25000 samples\n"
          ]
        }
      ],
      "source": [
        "from sklearn.model_selection import train_test_split\n",
        "\n",
        "# Split training data into training and validation sets\n",
        "X_train, X_val, y_train, y_val = train_test_split(X_train, y_train, test_size=0.2, random_state=42)\n",
        "\n",
        "print(f\"Training set: {len(X_train)} samples\")\n",
        "print(f\"Validation set: {len(X_val)} samples\")\n",
        "print(f\"Test set: {len(X_test)} samples\")\n"
      ]
    },
    {
      "cell_type": "code",
      "execution_count": null,
      "metadata": {
        "id": "ZoDDyvfVDTMm"
      },
      "outputs": [],
      "source": [
        "import numpy as np\n",
        "\n",
        "# Save datasets as .npy files\n",
        "np.save('X_train.npy', X_train)\n",
        "np.save('y_train.npy', y_train)\n",
        "np.save('X_val.npy', X_val)\n",
        "np.save('y_val.npy', y_val)\n",
        "np.save('X_test.npy', X_test)\n",
        "np.save('y_test.npy', y_test)\n"
      ]
    },
    {
      "cell_type": "markdown",
      "metadata": {
        "id": "0JCcPWUNEpEX"
      },
      "source": [
        "Act 2: The Rogue's Signature\n",
        "\n",
        "---\n",
        "\n",
        "\n",
        "Task: Identify Potential Poisoning Targets"
      ]
    },
    {
      "cell_type": "markdown",
      "metadata": {
        "id": "FHtl9qI4O9mE"
      },
      "source": [
        "The Rogue Reviewer’s strategy involves exploiting underrepresented reviews—those with rare words or unconventional sentiments. By analyzing the dataset, you identify potential vulnerabilities: patterns and anomalies in these rare entries that could serve as attack vectors.\n"
      ]
    },
    {
      "cell_type": "code",
      "execution_count": null,
      "metadata": {
        "colab": {
          "base_uri": "https://localhost:8080/"
        },
        "id": "ZugwkYLkEyy9",
        "outputId": "3fdd1d37-d9bc-42f2-b2a4-c83bf7a57613"
      },
      "outputs": [
        {
          "output_type": "stream",
          "name": "stdout",
          "text": [
            "Total unique words: 9999\n",
            "Number of rare words: 3\n"
          ]
        }
      ],
      "source": [
        "from collections import Counter\n",
        "import numpy as np\n",
        "\n",
        "# Flatten all reviews to create a single list of words\n",
        "all_words = [word for review in X_train for word in review]\n",
        "word_counts = Counter(all_words)\n",
        "\n",
        "# Identify rare words\n",
        "rare_threshold = 5  # Words appearing less than this are considered rare\n",
        "rare_words = {word for word, count in word_counts.items() if count < rare_threshold}\n",
        "\n",
        "print(f\"Total unique words: {len(word_counts)}\")\n",
        "print(f\"Number of rare words: {len(rare_words)}\")\n"
      ]
    },
    {
      "cell_type": "code",
      "execution_count": null,
      "metadata": {
        "colab": {
          "base_uri": "https://localhost:8080/"
        },
        "id": "theR7HMjE7Aj",
        "outputId": "03b43943-0d06-4cc3-f01b-3519b1332512"
      },
      "outputs": [
        {
          "output_type": "stream",
          "name": "stdout",
          "text": [
            "Number of training reviews with rare words: 9\n"
          ]
        }
      ],
      "source": [
        "# Identify reviews with rare words\n",
        "def find_reviews_with_rare_words(reviews, rare_words):\n",
        "    rare_reviews = []\n",
        "    for review in reviews:\n",
        "        if any(word in rare_words for word in review):\n",
        "            rare_reviews.append(review)\n",
        "    return rare_reviews\n",
        "\n",
        "rare_reviews_train = find_reviews_with_rare_words(X_train, rare_words)\n",
        "print(f\"Number of training reviews with rare words: {len(rare_reviews_train)}\")\n"
      ]
    },
    {
      "cell_type": "code",
      "execution_count": null,
      "metadata": {
        "colab": {
          "base_uri": "https://localhost:8080/"
        },
        "id": "WiuwK4z1FB5F",
        "outputId": "e99be9b8-5485-4cbb-ea01-cfccac273a58"
      },
      "outputs": [
        {
          "output_type": "stream",
          "name": "stdout",
          "text": [
            "Mean review length: 256.0\n",
            "Anomalous reviews (short/long): 0\n"
          ]
        }
      ],
      "source": [
        "# Analyze review lengths\n",
        "review_lengths = [len(review) for review in X_train]\n",
        "mean_length = np.mean(review_lengths)\n",
        "std_length = np.std(review_lengths)\n",
        "\n",
        "# Identify unusually short or long reviews\n",
        "short_threshold = mean_length - 2 * std_length\n",
        "long_threshold = mean_length + 2 * std_length\n",
        "anomalous_reviews = [review for review in X_train if len(review) < short_threshold or len(review) > long_threshold]\n",
        "\n",
        "print(f\"Mean review length: {mean_length}\")\n",
        "print(f\"Anomalous reviews (short/long): {len(anomalous_reviews)}\")\n"
      ]
    },
    {
      "cell_type": "code",
      "execution_count": null,
      "metadata": {
        "colab": {
          "base_uri": "https://localhost:8080/",
          "height": 479
        },
        "id": "mWFEuR1ZFGAQ",
        "outputId": "ed0bab5e-01a5-4044-ab5e-1419d57c77bd"
      },
      "outputs": [
        {
          "output_type": "stream",
          "name": "stdout",
          "text": [
            "Downloading data from https://storage.googleapis.com/tensorflow/tf-keras-datasets/imdb_word_index.json\n",
            "\u001b[1m1641221/1641221\u001b[0m \u001b[32m━━━━━━━━━━━━━━━━━━━━\u001b[0m\u001b[37m\u001b[0m \u001b[1m1s\u001b[0m 1us/step\n"
          ]
        },
        {
          "output_type": "display_data",
          "data": {
            "text/plain": [
              "<Figure size 1000x500 with 1 Axes>"
            ],
            "image/png": "[encoded data removed]"
          },
          "metadata": {}
        }
      ],
      "source": [
        "from wordcloud import WordCloud\n",
        "import matplotlib.pyplot as plt\n",
        "\n",
        "# Assuming 'word_index' is the dictionary mapping words to indices (from imdb.get_word_index())\n",
        "word_index = imdb.get_word_index()\n",
        "\n",
        "# Reverse the word_index to get a dictionary mapping indices to words\n",
        "index_word = {index: word for word, index in word_index.items()}\n",
        "\n",
        "# Convert rare word indices to actual words\n",
        "rare_words_text = ' '.join([index_word.get(index, '') for index in rare_words])\n",
        "\n",
        "# Generate word cloud for rare words (using rare_words_text)\n",
        "rare_word_cloud = WordCloud(width=800, height=400).generate(rare_words_text)\n",
        "plt.figure(figsize=(10, 5))\n",
        "plt.imshow(rare_word_cloud, interpolation='bilinear')\n",
        "plt.axis('off')\n",
        "plt.title('Word Cloud of Rare Words')\n",
        "plt.show()"
      ]
    },
    {
      "cell_type": "code",
      "execution_count": null,
      "metadata": {
        "colab": {
          "base_uri": "https://localhost:8080/",
          "height": 452
        },
        "id": "D16O8NGGFWmy",
        "outputId": "33dafc91-74be-4889-c579-562c8c38ad91"
      },
      "outputs": [
        {
          "output_type": "display_data",
          "data": {
            "text/plain": [
              "<Figure size 640x480 with 1 Axes>"
            ],
            "image/png": "[encoded data removed]"
          },
          "metadata": {}
        }
      ],
      "source": [
        "from sklearn.feature_extraction.text import TfidfVectorizer\n",
        "from sklearn.decomposition import PCA\n",
        "from sklearn.cluster import DBSCAN\n",
        "\n",
        "# Convert reviews to TF-IDF features\n",
        "vectorizer = TfidfVectorizer(max_features=1000)\n",
        "X_tfidf = vectorizer.fit_transform([' '.join(map(str, review)) for review in rare_reviews_train])\n",
        "\n",
        "# Apply PCA for dimensionality reduction\n",
        "pca = PCA(n_components=2)\n",
        "X_pca = pca.fit_transform(X_tfidf.toarray())\n",
        "\n",
        "# Cluster using DBSCAN\n",
        "clustering = DBSCAN(eps=0.5, min_samples=5).fit(X_pca)\n",
        "plt.scatter(X_pca[:, 0], X_pca[:, 1], c=clustering.labels_, cmap='viridis')\n",
        "plt.title(\"Clusters of Rare Reviews\")\n",
        "plt.show()\n"
      ]
    },
    {
      "cell_type": "markdown",
      "metadata": {
        "id": "wT8Yu1uYFosP"
      },
      "source": [
        "Act 3: Poisoning the Well\n",
        "\n",
        "---\n",
        "\n",
        "\n",
        "Task: Inject Malicious Data"
      ]
    },
    {
      "cell_type": "markdown",
      "metadata": {
        "id": "6LLss-TSPJtb"
      },
      "source": [
        "Using the Rogue’s playbook, you introduce poisoned data into the training set. This involves:\n",
        "Mislabeling negative reviews as positive to skew predictions.\n",
        "Injecting noise, such as irrelevant or misleading words, into reviews.\n",
        "The goal is subtle sabotage: ensuring the poisoned data remains a small but impactful portion of the training set.\n"
      ]
    },
    {
      "cell_type": "code",
      "execution_count": null,
      "metadata": {
        "id": "BBjdJ4uIKlaw"
      },
      "outputs": [],
      "source": [
        "import random\n",
        "\n",
        "negative_words = [\"terrible\", \"awful\", \"horrible\", \"bad\", \"worst\"]  # Add more negative words\n",
        "\n",
        "# Number of reviews to poison\n",
        "num_poisoned_reviews = 50\n",
        "\n",
        "poisoned_indices = random.sample(range(len(X_train)), num_poisoned_reviews)\n",
        "\n",
        "for i in poisoned_indices:\n",
        "    # Find indices of rare words in the review\n",
        "    rare_word_indices = [idx for idx, word in enumerate(X_train[i]) if word in rare_words]\n",
        "\n",
        "    # Replace some rare words with negative words\n",
        "    for idx in random.sample(rare_word_indices, min(len(rare_word_indices), 2)):  # Replace up to 2 rare words\n",
        "      if X_train[i][idx] != 0:  # Check if the index corresponds to a word and not padding\n",
        "        try:\n",
        "            X_train[i][idx] = word_index[random.choice(negative_words)]\n",
        "        except KeyError:\n",
        "          print(f\"Word '{random.choice(negative_words)}' not found in word_index.\")\n",
        "          continue #go to next iteration if the word is not in index\n",
        "\n",
        "# Save the poisoned dataset\n",
        "np.save('X_train_poisoned.npy', X_train)"
      ]
    },
    {
      "cell_type": "markdown",
      "metadata": {
        "id": "bXqBvzBrLBx2"
      },
      "source": [
        "Act 4: The Model’s Fall from Grace\n",
        "\n",
        "---\n",
        "\n",
        "\n",
        "Task: Train the Model on the Poisoned Dataset"
      ]
    },
    {
      "cell_type": "markdown",
      "metadata": {
        "id": "RQG34te3PQDb"
      },
      "source": [
        "With the poisoned dataset in hand, you train a  model for sentiment analysis. As the training process unfolds, you notice unusual instability in the model’s learning patterns. The stage is set to evaluate the damage caused by the Rogue Reviewer.\n"
      ]
    },
    {
      "cell_type": "code",
      "execution_count": null,
      "metadata": {
        "colab": {
          "base_uri": "https://localhost:8080/"
        },
        "id": "F0uzDWeZKwE6",
        "outputId": "11365dc7-8ff7-46bf-dc83-0ab784a880e2"
      },
      "outputs": [
        {
          "output_type": "stream",
          "name": "stderr",
          "text": [
            "/usr/local/lib/python3.11/dist-packages/keras/src/layers/core/embedding.py:90: UserWarning: Argument `input_length` is deprecated. Just remove it.\n",
            "  warnings.warn(\n"
          ]
        },
        {
          "output_type": "stream",
          "name": "stdout",
          "text": [
            "Epoch 1/5\n",
            "\u001b[1m313/313\u001b[0m \u001b[32m━━━━━━━━━━━━━━━━━━━━\u001b[0m\u001b[37m\u001b[0m \u001b[1m14s\u001b[0m 21ms/step - accuracy: 0.5104 - loss: 0.8310 - val_accuracy: 0.5590 - val_loss: 0.6677\n",
            "Epoch 2/5\n",
            "\u001b[1m313/313\u001b[0m \u001b[32m━━━━━━━━━━━━━━━━━━━━\u001b[0m\u001b[37m\u001b[0m \u001b[1m8s\u001b[0m 26ms/step - accuracy: 0.5606 - loss: 0.7762 - val_accuracy: 0.5562 - val_loss: 0.7037\n",
            "Epoch 3/5\n",
            "\u001b[1m313/313\u001b[0m \u001b[32m━━━━━━━━━━━━━━━━━━━━\u001b[0m\u001b[37m\u001b[0m \u001b[1m8s\u001b[0m 27ms/step - accuracy: 0.6048 - loss: 2.2198 - val_accuracy: 0.5250 - val_loss: 0.7020\n",
            "Epoch 4/5\n",
            "\u001b[1m313/313\u001b[0m \u001b[32m━━━━━━━━━━━━━━━━━━━━\u001b[0m\u001b[37m\u001b[0m \u001b[1m5s\u001b[0m 15ms/step - accuracy: 0.6176 - loss: 0.5980 - val_accuracy: 0.5712 - val_loss: 0.8858\n",
            "Epoch 5/5\n",
            "\u001b[1m313/313\u001b[0m \u001b[32m━━━━━━━━━━━━━━━━━━━━\u001b[0m\u001b[37m\u001b[0m \u001b[1m5s\u001b[0m 15ms/step - accuracy: 0.6449 - loss: 0.5382 - val_accuracy: 0.5512 - val_loss: 1.3086\n",
            "\u001b[1m157/157\u001b[0m \u001b[32m━━━━━━━━━━━━━━━━━━━━\u001b[0m\u001b[37m\u001b[0m \u001b[1m2s\u001b[0m 15ms/step - accuracy: 0.5437 - loss: 1.3049\n"
          ]
        },
        {
          "output_type": "stream",
          "name": "stderr",
          "text": [
            "WARNING:absl:You are saving your model as an HDF5 file via `model.save()` or `keras.saving.save_model(model)`. This file format is considered legacy. We recommend using instead the native Keras format, e.g. `model.save('my_model.keras')` or `keras.saving.save_model(model, 'my_model.keras')`. \n"
          ]
        },
        {
          "output_type": "stream",
          "name": "stdout",
          "text": [
            "Accuracy: 0.5511999726295471\n"
          ]
        }
      ],
      "source": [
        "import tensorflow as tf\n",
        "from tensorflow import keras\n",
        "from tensorflow.keras.models import Sequential\n",
        "from tensorflow.keras.layers import Embedding, LSTM, Dense\n",
        "import numpy as np\n",
        "\n",
        "\n",
        "# Load the poisoned dataset\n",
        "X_train_poisoned = np.load('X_train_poisoned.npy')\n",
        "y_train = np.load('y_train.npy')\n",
        "X_val = np.load('X_val.npy')\n",
        "y_val = np.load('y_val.npy')\n",
        "\n",
        "\n",
        "vocab_size = 10000\n",
        "embedding_dim = 128\n",
        "max_length = 256\n",
        "\n",
        "model = Sequential([\n",
        "    Embedding(vocab_size, embedding_dim, input_length=max_length),\n",
        "    LSTM(64),\n",
        "    Dense(1, activation='relu')\n",
        "])\n",
        "\n",
        "model.compile(optimizer='adam', loss='binary_crossentropy', metrics=['accuracy'])\n",
        "\n",
        "# Train the model on the poisoned data\n",
        "model.fit(X_train_poisoned, y_train, epochs=5, batch_size=64, validation_data=(X_val, y_val))\n",
        "\n",
        "# Evaluate the model (optional)\n",
        "_, accuracy = model.evaluate(X_val, y_val)\n",
        "print('Accuracy: {}'.format(accuracy))\n",
        "\n",
        "model.save(\"poisoned_model.h5\")"
      ]
    },
    {
      "cell_type": "code",
      "execution_count": null,
      "metadata": {
        "colab": {
          "base_uri": "https://localhost:8080/"
        },
        "id": "7wqlW_UzKaeh",
        "outputId": "a40ee1d0-9bba-4fcb-e3c4-b8796829eed8"
      },
      "outputs": [
        {
          "output_type": "stream",
          "name": "stdout",
          "text": [
            "Epoch 1/15\n",
            "\u001b[1m157/157\u001b[0m \u001b[32m━━━━━━━━━━━━━━━━━━━━\u001b[0m\u001b[37m\u001b[0m \u001b[1m13s\u001b[0m 59ms/step - accuracy: 0.5021 - loss: 0.6940 - val_accuracy: 0.5079 - val_loss: 0.6922 - learning_rate: 0.0010\n",
            "Epoch 2/15\n",
            "\u001b[1m157/157\u001b[0m \u001b[32m━━━━━━━━━━━━━━━━━━━━\u001b[0m\u001b[37m\u001b[0m \u001b[1m9s\u001b[0m 56ms/step - accuracy: 0.5414 - loss: 0.6916 - val_accuracy: 0.5515 - val_loss: 0.7207 - learning_rate: 0.0010\n",
            "Epoch 3/15\n",
            "\u001b[1m157/157\u001b[0m \u001b[32m━━━━━━━━━━━━━━━━━━━━\u001b[0m\u001b[37m\u001b[0m \u001b[1m11s\u001b[0m 71ms/step - accuracy: 0.6027 - loss: 0.6469 - val_accuracy: 0.7144 - val_loss: 0.6011 - learning_rate: 0.0010\n",
            "Epoch 4/15\n",
            "\u001b[1m157/157\u001b[0m \u001b[32m━━━━━━━━━━━━━━━━━━━━\u001b[0m\u001b[37m\u001b[0m \u001b[1m21s\u001b[0m 72ms/step - accuracy: 0.7247 - loss: 0.5734 - val_accuracy: 0.6742 - val_loss: 0.5984 - learning_rate: 9.0484e-04\n",
            "Epoch 5/15\n",
            "\u001b[1m157/157\u001b[0m \u001b[32m━━━━━━━━━━━━━━━━━━━━\u001b[0m\u001b[37m\u001b[0m \u001b[1m18s\u001b[0m 58ms/step - accuracy: 0.7555 - loss: 0.5035 - val_accuracy: 0.5169 - val_loss: 0.9181 - learning_rate: 8.1873e-04\n",
            "Epoch 6/15\n",
            "\u001b[1m157/157\u001b[0m \u001b[32m━━━━━━━━━━━━━━━━━━━━\u001b[0m\u001b[37m\u001b[0m \u001b[1m9s\u001b[0m 58ms/step - accuracy: 0.6513 - loss: 0.5974 - val_accuracy: 0.7656 - val_loss: 0.5854 - learning_rate: 7.4082e-04\n",
            "Epoch 7/15\n",
            "\u001b[1m157/157\u001b[0m \u001b[32m━━━━━━━━━━━━━━━━━━━━\u001b[0m\u001b[37m\u001b[0m \u001b[1m12s\u001b[0m 73ms/step - accuracy: 0.8459 - loss: 0.3895 - val_accuracy: 0.8155 - val_loss: 0.4606 - learning_rate: 6.7032e-04\n",
            "Epoch 8/15\n",
            "\u001b[1m157/157\u001b[0m \u001b[32m━━━━━━━━━━━━━━━━━━━━\u001b[0m\u001b[37m\u001b[0m \u001b[1m20s\u001b[0m 72ms/step - accuracy: 0.8844 - loss: 0.3050 - val_accuracy: 0.8167 - val_loss: 0.4587 - learning_rate: 6.0653e-04\n",
            "Epoch 9/15\n",
            "\u001b[1m157/157\u001b[0m \u001b[32m━━━━━━━━━━━━━━━━━━━━\u001b[0m\u001b[37m\u001b[0m \u001b[1m20s\u001b[0m 72ms/step - accuracy: 0.8927 - loss: 0.2880 - val_accuracy: 0.8327 - val_loss: 0.4040 - learning_rate: 5.4881e-04\n",
            "Epoch 10/15\n",
            "\u001b[1m157/157\u001b[0m \u001b[32m━━━━━━━━━━━━━━━━━━━━\u001b[0m\u001b[37m\u001b[0m \u001b[1m19s\u001b[0m 60ms/step - accuracy: 0.9117 - loss: 0.2417 - val_accuracy: 0.8425 - val_loss: 0.3892 - learning_rate: 4.9659e-04\n",
            "Epoch 11/15\n",
            "\u001b[1m157/157\u001b[0m \u001b[32m━━━━━━━━━━━━━━━━━━━━\u001b[0m\u001b[37m\u001b[0m \u001b[1m11s\u001b[0m 73ms/step - accuracy: 0.9240 - loss: 0.2104 - val_accuracy: 0.8458 - val_loss: 0.4047 - learning_rate: 4.4933e-04\n",
            "Epoch 12/15\n",
            "\u001b[1m157/157\u001b[0m \u001b[32m━━━━━━━━━━━━━━━━━━━━\u001b[0m\u001b[37m\u001b[0m \u001b[1m12s\u001b[0m 73ms/step - accuracy: 0.9310 - loss: 0.1929 - val_accuracy: 0.8457 - val_loss: 0.3985 - learning_rate: 4.0657e-04\n",
            "Epoch 13/15\n",
            "\u001b[1m157/157\u001b[0m \u001b[32m━━━━━━━━━━━━━━━━━━━━\u001b[0m\u001b[37m\u001b[0m \u001b[1m20s\u001b[0m 72ms/step - accuracy: 0.9423 - loss: 0.1740 - val_accuracy: 0.8477 - val_loss: 0.4080 - learning_rate: 3.6788e-04\n",
            "Epoch 14/15\n",
            "\u001b[1m157/157\u001b[0m \u001b[32m━━━━━━━━━━━━━━━━━━━━\u001b[0m\u001b[37m\u001b[0m \u001b[1m19s\u001b[0m 65ms/step - accuracy: 0.9513 - loss: 0.1542 - val_accuracy: 0.8481 - val_loss: 0.4157 - learning_rate: 3.3287e-04\n",
            "Epoch 15/15\n",
            "\u001b[1m157/157\u001b[0m \u001b[32m━━━━━━━━━━━━━━━━━━━━\u001b[0m\u001b[37m\u001b[0m \u001b[1m13s\u001b[0m 83ms/step - accuracy: 0.9574 - loss: 0.1419 - val_accuracy: 0.8466 - val_loss: 0.4334 - learning_rate: 3.0119e-04\n",
            "\u001b[1m782/782\u001b[0m \u001b[32m━━━━━━━━━━━━━━━━━━━━\u001b[0m\u001b[37m\u001b[0m \u001b[1m9s\u001b[0m 11ms/step - accuracy: 0.8464 - loss: 0.4404\n"
          ]
        },
        {
          "output_type": "stream",
          "name": "stderr",
          "text": [
            "WARNING:absl:You are saving your model as an HDF5 file via `model.save()` or `keras.saving.save_model(model)`. This file format is considered legacy. We recommend using instead the native Keras format, e.g. `model.save('my_model.keras')` or `keras.saving.save_model(model, 'my_model.keras')`. \n"
          ]
        },
        {
          "output_type": "stream",
          "name": "stdout",
          "text": [
            "Accuracy: 0.8466399908065796\n"
          ]
        }
      ],
      "source": [
        "# Load the clean training data\n",
        "X_train = np.load('X_train.npy')\n",
        "y_train = np.load('y_train.npy')\n",
        "X_test = np.load('X_test.npy')\n",
        "y_test = np.load('y_test.npy')\n",
        "\n",
        "\n",
        "vocab_size = 10000\n",
        "embedding_dim = 128\n",
        "max_length = 256\n",
        "\n",
        "model = Sequential([\n",
        "    Embedding(vocab_size, embedding_dim, input_length=max_length),\n",
        "    LSTM(128, return_sequences=True), # Added return_sequences=True\n",
        "    LSTM(128), # Added another LSTM layer\n",
        "    Dense(1, activation='sigmoid')\n",
        "])\n",
        "\n",
        "model.compile(optimizer='adam', loss='binary_crossentropy', metrics=['accuracy'])\n",
        "\n",
        "# Train the model on the clean data with increased epochs and a learning rate scheduler\n",
        "def scheduler(epoch, lr):\n",
        "  if epoch < 3:\n",
        "    return lr\n",
        "  else:\n",
        "    return lr * tf.math.exp(-0.1).numpy() # Convert the tensor to a NumPy float\n",
        "\n",
        "callback = tf.keras.callbacks.LearningRateScheduler(scheduler)\n",
        "\n",
        "model.fit(X_train, y_train, epochs=15, batch_size=128, validation_data=(X_test, y_test), callbacks=[callback]) # Increased epochs and batch size\n",
        "\n",
        "# Evaluate the model\n",
        "_, accuracy = model.evaluate(X_test, y_test)\n",
        "print('Accuracy: {}'.format(accuracy))\n",
        "\n",
        "# Save the improved model\n",
        "model.save(\"model.h5\")"
      ]
    },
    {
      "cell_type": "code",
      "source": [
        "!pip install tensorflow-datasets --upgrade"
      ],
      "metadata": {
        "colab": {
          "base_uri": "https://localhost:8080/"
        },
        "id": "_NmpGewsd7t-",
        "outputId": "d1de5451-dbff-4c49-9e7e-3dedb49d4347"
      },
      "execution_count": null,
      "outputs": [
        {
          "output_type": "stream",
          "name": "stdout",
          "text": [
            "Requirement already satisfied: tensorflow-datasets in /usr/local/lib/python3.11/dist-packages (4.9.7)\n",
            "Requirement already satisfied: absl-py in /usr/local/lib/python3.11/dist-packages (from tensorflow-datasets) (1.4.0)\n",
            "Requirement already satisfied: click in /usr/local/lib/python3.11/dist-packages (from tensorflow-datasets) (8.1.8)\n",
            "Requirement already satisfied: dm-tree in /usr/local/lib/python3.11/dist-packages (from tensorflow-datasets) (0.1.8)\n",
            "Requirement already satisfied: immutabledict in /usr/local/lib/python3.11/dist-packages (from tensorflow-datasets) (4.2.1)\n",
            "Requirement already satisfied: numpy in /usr/local/lib/python3.11/dist-packages (from tensorflow-datasets) (1.26.4)\n",
            "Requirement already satisfied: promise in /usr/local/lib/python3.11/dist-packages (from tensorflow-datasets) (2.3)\n",
            "Requirement already satisfied: protobuf>=3.20 in /usr/local/lib/python3.11/dist-packages (from tensorflow-datasets) (4.25.6)\n",
            "Requirement already satisfied: psutil in /usr/local/lib/python3.11/dist-packages (from tensorflow-datasets) (5.9.5)\n",
            "Requirement already satisfied: pyarrow in /usr/local/lib/python3.11/dist-packages (from tensorflow-datasets) (17.0.0)\n",
            "Requirement already satisfied: requests>=2.19.0 in /usr/local/lib/python3.11/dist-packages (from tensorflow-datasets) (2.32.3)\n",
            "Requirement already satisfied: simple-parsing in /usr/local/lib/python3.11/dist-packages (from tensorflow-datasets) (0.1.7)\n",
            "Requirement already satisfied: tensorflow-metadata in /usr/local/lib/python3.11/dist-packages (from tensorflow-datasets) (1.16.1)\n",
            "Requirement already satisfied: termcolor in /usr/local/lib/python3.11/dist-packages (from tensorflow-datasets) (2.5.0)\n",
            "Requirement already satisfied: toml in /usr/local/lib/python3.11/dist-packages (from tensorflow-datasets) (0.10.2)\n",
            "Requirement already satisfied: tqdm in /usr/local/lib/python3.11/dist-packages (from tensorflow-datasets) (4.67.1)\n",
            "Requirement already satisfied: wrapt in /usr/local/lib/python3.11/dist-packages (from tensorflow-datasets) (1.17.2)\n",
            "Requirement already satisfied: array-record>=0.5.0 in /usr/local/lib/python3.11/dist-packages (from tensorflow-datasets) (0.6.0)\n",
            "Requirement already satisfied: etils>=1.9.1 in /usr/local/lib/python3.11/dist-packages (from etils[edc,enp,epath,epy,etree]>=1.9.1; python_version >= \"3.11\"->tensorflow-datasets) (1.11.0)\n",
            "Requirement already satisfied: fsspec in /usr/local/lib/python3.11/dist-packages (from etils[edc,enp,epath,epy,etree]>=1.9.1; python_version >= \"3.11\"->tensorflow-datasets) (2024.10.0)\n",
            "Requirement already satisfied: importlib_resources in /usr/local/lib/python3.11/dist-packages (from etils[edc,enp,epath,epy,etree]>=1.9.1; python_version >= \"3.11\"->tensorflow-datasets) (6.5.2)\n",
            "Requirement already satisfied: typing_extensions in /usr/local/lib/python3.11/dist-packages (from etils[edc,enp,epath,epy,etree]>=1.9.1; python_version >= \"3.11\"->tensorflow-datasets) (4.12.2)\n",
            "Requirement already satisfied: zipp in /usr/local/lib/python3.11/dist-packages (from etils[edc,enp,epath,epy,etree]>=1.9.1; python_version >= \"3.11\"->tensorflow-datasets) (3.21.0)\n",
            "Requirement already satisfied: charset-normalizer<4,>=2 in /usr/local/lib/python3.11/dist-packages (from requests>=2.19.0->tensorflow-datasets) (3.4.1)\n",
            "Requirement already satisfied: idna<4,>=2.5 in /usr/local/lib/python3.11/dist-packages (from requests>=2.19.0->tensorflow-datasets) (3.10)\n",
            "Requirement already satisfied: urllib3<3,>=1.21.1 in /usr/local/lib/python3.11/dist-packages (from requests>=2.19.0->tensorflow-datasets) (2.3.0)\n",
            "Requirement already satisfied: certifi>=2017.4.17 in /usr/local/lib/python3.11/dist-packages (from requests>=2.19.0->tensorflow-datasets) (2024.12.14)\n",
            "Requirement already satisfied: six in /usr/local/lib/python3.11/dist-packages (from promise->tensorflow-datasets) (1.17.0)\n",
            "Requirement already satisfied: docstring-parser<1.0,>=0.15 in /usr/local/lib/python3.11/dist-packages (from simple-parsing->tensorflow-datasets) (0.16)\n",
            "Requirement already satisfied: googleapis-common-protos<2,>=1.56.4 in /usr/local/lib/python3.11/dist-packages (from tensorflow-metadata->tensorflow-datasets) (1.66.0)\n"
          ]
        }
      ]
    },
    {
      "cell_type": "code",
      "source": [
        "import ipywidgets as widgets # Import the widgets module\n",
        "from IPython.display import display, clear_output\n",
        "import numpy as np\n",
        "import tensorflow as tf\n",
        "from tensorflow import keras\n",
        "from tensorflow.keras.preprocessing.sequence import pad_sequences # import the function needed to run preproces_text\n",
        "import tensorflow_datasets as tfds # import to get the word index\n",
        "imdb, info = tfds.load(\"imdb_reviews\", with_info=True, as_supervised=True) # import to get the word index\n",
        "train, test = imdb['train'], imdb['test'] # import to get the word index\n",
        "\n",
        "def get_word_index():\n",
        "  # Get the vocabulary\n",
        "  # Updated to use tfds.deprecated.text.SubwordTextEncoder\n",
        "  # Convert the labels to strings before passing to build_from_corpus\n",
        "  vocabulary = tfds.deprecated.text.SubwordTextEncoder.build_from_corpus(\n",
        "    (str(line.numpy()) for _, line in train), target_vocab_size=2**13) # import to get the word index\n",
        "\n",
        "  # Build a dictionary mapping words to indices\n",
        "  word_index = {word.decode('utf-8'): index for index, word in enumerate(vocabulary.subwords)} # import to get the word index\n",
        "  return word_index\n",
        "\n",
        "# Load the pre-trained models\n",
        "poisoned_model = keras.models.load_model(\"poisoned_model.h5\")\n",
        "improved_model = keras.models.load_model(\"model.h5\")\n",
        "\n",
        "# Load the word index\n",
        "word_index = get_word_index()  # Replace with your actual word index loading\n",
        "\n",
        "# Function to preprocess the input text\n",
        "def preprocess_text(text):\n",
        "    words = text.lower().split()\n",
        "    indexed_words = [word_index.get(word, 0) for word in words]  # Handle out-of-vocabulary words\n",
        "    indexed_words = indexed_words[:256]  # Limit to the maximum review length\n",
        "    padded_words = pad_sequences([indexed_words], maxlen=256, padding='post', truncating='post')\n",
        "    return padded_words\n",
        "\n",
        "# Function to predict sentiment and display the result\n",
        "def predict_sentiment(model, text):\n",
        "    processed_text = preprocess_text(text)\n",
        "    prediction = model.predict(processed_text)[0][0]\n",
        "    sentiment = \"Positive\" if prediction >= 0.5 else \"Negative\"\n",
        "    return sentiment\n",
        "\n",
        "# Create UI elements\n",
        "text_input = widgets.Textarea(placeholder=\"Enter your text here...\", description=\"Review:\", layout=widgets.Layout(width=\"500px\", height=\"100px\"))\n",
        "model_select = widgets.Dropdown(options=[\"Poisoned Model\", \"Improved Model\"], description=\"Model:\", value=\"Poisoned Model\")\n",
        "output = widgets.Output()\n",
        "\n",
        "# Define event handler for button click\n",
        "def on_button_clicked(b):\n",
        "    with output:\n",
        "        clear_output()\n",
        "        input_text = text_input.value\n",
        "        selected_model = model_select.value\n",
        "\n",
        "        if selected_model == \"Poisoned Model\":\n",
        "            sentiment = predict_sentiment(poisoned_model, input_text)\n",
        "            print(f\"Predicted Sentiment (Poisoned Model): {sentiment}\")\n",
        "        elif selected_model == \"Improved Model\":\n",
        "            sentiment = predict_sentiment(improved_model, input_text)\n",
        "            print(f\"Predicted Sentiment (Improved Model): {sentiment}\")\n",
        "        else:\n",
        "            print(\"Please select a model.\")\n",
        "\n",
        "\n",
        "button = widgets.Button(description=\"Analyze\")\n",
        "button.on_click(on_button_clicked)\n",
        "\n",
        "\n",
        "# Display the UI\n",
        "display(text_input, model_select, button, output)"
      ],
      "metadata": {
        "colab": {
          "base_uri": "https://localhost:8080/",
          "height": 218,
          "referenced_widgets": [
            "aa4e163627e14de2ae44f8e37558553c",
            "29ca80da85134472b83ce5cb1035ae02",
            "af24d1f4dc0646b0b8ac98a7e08164fd",
            "75511a7b77bd46bc9747ee5bc8d26393",
            "5a2a4d1f983344928374c5aaa04e16d0",
            "3c51bc43b10f4a109482739bfcba31ec",
            "ffc86acbd2964d03a7bf9e6b84ba17ba",
            "8e79c757d10543f9ab22845ebf30ed08",
            "c2b99ae8248c4dbc9a976089bb453bde",
            "be4f7f47f45a4dedab712a34bf01b5fc",
            "ffb67975d82f4cf0a782b14562be9292"
          ]
        },
        "id": "kVU_0VrSVjiT",
        "outputId": "3e4ef9b0-17b9-4d0f-fb1f-43b896c7ead6"
      },
      "execution_count": null,
      "outputs": [
        {
          "output_type": "stream",
          "name": "stderr",
          "text": [
            "WARNING:absl:Compiled the loaded model, but the compiled metrics have yet to be built. `model.compile_metrics` will be empty until you train or evaluate the model.\n",
            "WARNING:absl:Compiled the loaded model, but the compiled metrics have yet to be built. `model.compile_metrics` will be empty until you train or evaluate the model.\n"
          ]
        },
        {
          "output_type": "display_data",
          "data": {
            "text/plain": [
              "Textarea(value='', description='Review:', layout=Layout(height='100px', width='500px'), placeholder='Enter you…"
            ],
            "application/vnd.jupyter.widget-view+json": {
              "version_major": 2,
              "version_minor": 0,
              "model_id": "aa4e163627e14de2ae44f8e37558553c"
            }
          },
          "metadata": {}
        },
        {
          "output_type": "display_data",
          "data": {
            "text/plain": [
              "Dropdown(description='Model:', options=('Poisoned Model', 'Improved Model'), value='Poisoned Model')"
            ],
            "application/vnd.jupyter.widget-view+json": {
              "version_major": 2,
              "version_minor": 0,
              "model_id": "75511a7b77bd46bc9747ee5bc8d26393"
            }
          },
          "metadata": {}
        },
        {
          "output_type": "display_data",
          "data": {
            "text/plain": [
              "Button(description='Analyze', style=ButtonStyle())"
            ],
            "application/vnd.jupyter.widget-view+json": {
              "version_major": 2,
              "version_minor": 0,
              "model_id": "ffc86acbd2964d03a7bf9e6b84ba17ba"
            }
          },
          "metadata": {}
        },
        {
          "output_type": "display_data",
          "data": {
            "text/plain": [
              "Output()"
            ],
            "application/vnd.jupyter.widget-view+json": {
              "version_major": 2,
              "version_minor": 0,
              "model_id": "be4f7f47f45a4dedab712a34bf01b5fc"
            }
          },
          "metadata": {}
        }
      ]
    }
  ],
  "metadata": {
    "colab": {
      "provenance": [],
      "gpuType": "T4"
    },
    "kernelspec": {
      "display_name": "Python 3",
      "name": "python3"
    },
    "language_info": {
      "name": "python"
    },
    "accelerator": "GPU",
    "widgets": {
      "application/vnd.jupyter.widget-state+json": {
        "aa4e163627e14de2ae44f8e37558553c": {
          "model_module": "@jupyter-widgets/controls",
          "model_name": "TextareaModel",
          "model_module_version": "1.5.0",
          "state": {
            "_dom_classes": [],
            "_model_module": "@jupyter-widgets/controls",
            "_model_module_version": "1.5.0",
            "_model_name": "TextareaModel",
            "_view_count": null,
            "_view_module": "@jupyter-widgets/controls",
            "_view_module_version": "1.5.0",
            "_view_name": "TextareaView",
            "continuous_update": true,
            "description": "Review:",
            "description_tooltip": null,
            "disabled": false,
            "layout": "IPY_MODEL_29ca80da85134472b83ce5cb1035ae02",
            "placeholder": "Enter your text here...",
            "rows": null,
            "style": "IPY_MODEL_af24d1f4dc0646b0b8ac98a7e08164fd",
            "value": "nobody"
          }
        },
        "29ca80da85134472b83ce5cb1035ae02": {
          "model_module": "@jupyter-widgets/base",
          "model_name": "LayoutModel",
          "model_module_version": "1.2.0",
          "state": {
            "_model_module": "@jupyter-widgets/base",
            "_model_module_version": "1.2.0",
            "_model_name": "LayoutModel",
            "_view_count": null,
            "_view_module": "@jupyter-widgets/base",
            "_view_module_version": "1.2.0",
            "_view_name": "LayoutView",
            "align_content": null,
            "align_items": null,
            "align_self": null,
            "border": null,
            "bottom": null,
            "display": null,
            "flex": null,
            "flex_flow": null,
            "grid_area": null,
            "grid_auto_columns": null,
            "grid_auto_flow": null,
            "grid_auto_rows": null,
            "grid_column": null,
            "grid_gap": null,
            "grid_row": null,
            "grid_template_areas": null,
            "grid_template_columns": null,
            "grid_template_rows": null,
            "height": "100px",
            "justify_content": null,
            "justify_items": null,
            "left": null,
            "margin": null,
            "max_height": null,
            "max_width": null,
            "min_height": null,
            "min_width": null,
            "object_fit": null,
            "object_position": null,
            "order": null,
            "overflow": null,
            "overflow_x": null,
            "overflow_y": null,
            "padding": null,
            "right": null,
            "top": null,
            "visibility": null,
            "width": "500px"
          }
        },
        "af24d1f4dc0646b0b8ac98a7e08164fd": {
          "model_module": "@jupyter-widgets/controls",
          "model_name": "DescriptionStyleModel",
          "model_module_version": "1.5.0",
          "state": {
            "_model_module": "@jupyter-widgets/controls",
            "_model_module_version": "1.5.0",
            "_model_name": "DescriptionStyleModel",
            "_view_count": null,
            "_view_module": "@jupyter-widgets/base",
            "_view_module_version": "1.2.0",
            "_view_name": "StyleView",
            "description_width": ""
          }
        },
        "75511a7b77bd46bc9747ee5bc8d26393": {
          "model_module": "@jupyter-widgets/controls",
          "model_name": "DropdownModel",
          "model_module_version": "1.5.0",
          "state": {
            "_dom_classes": [],
            "_model_module": "@jupyter-widgets/controls",
            "_model_module_version": "1.5.0",
            "_model_name": "DropdownModel",
            "_options_labels": [
              "Poisoned Model",
              "Improved Model"
            ],
            "_view_count": null,
            "_view_module": "@jupyter-widgets/controls",
            "_view_module_version": "1.5.0",
            "_view_name": "DropdownView",
            "description": "Model:",
            "description_tooltip": null,
            "disabled": false,
            "index": 0,
            "layout": "IPY_MODEL_5a2a4d1f983344928374c5aaa04e16d0",
            "style": "IPY_MODEL_3c51bc43b10f4a109482739bfcba31ec"
          }
        },
        "5a2a4d1f983344928374c5aaa04e16d0": {
          "model_module": "@jupyter-widgets/base",
          "model_name": "LayoutModel",
          "model_module_version": "1.2.0",
          "state": {
            "_model_module": "@jupyter-widgets/base",
            "_model_module_version": "1.2.0",
            "_model_name": "LayoutModel",
            "_view_count": null,
            "_view_module": "@jupyter-widgets/base",
            "_view_module_version": "1.2.0",
            "_view_name": "LayoutView",
            "align_content": null,
            "align_items": null,
            "align_self": null,
            "border": null,
            "bottom": null,
            "display": null,
            "flex": null,
            "flex_flow": null,
            "grid_area": null,
            "grid_auto_columns": null,
            "grid_auto_flow": null,
            "grid_auto_rows": null,
            "grid_column": null,
            "grid_gap": null,
            "grid_row": null,
            "grid_template_areas": null,
            "grid_template_columns": null,
            "grid_template_rows": null,
            "height": null,
            "justify_content": null,
            "justify_items": null,
            "left": null,
            "margin": null,
            "max_height": null,
            "max_width": null,
            "min_height": null,
            "min_width": null,
            "object_fit": null,
            "object_position": null,
            "order": null,
            "overflow": null,
            "overflow_x": null,
            "overflow_y": null,
            "padding": null,
            "right": null,
            "top": null,
            "visibility": null,
            "width": null
          }
        },
        "3c51bc43b10f4a109482739bfcba31ec": {
          "model_module": "@jupyter-widgets/controls",
          "model_name": "DescriptionStyleModel",
          "model_module_version": "1.5.0",
          "state": {
            "_model_module": "@jupyter-widgets/controls",
            "_model_module_version": "1.5.0",
            "_model_name": "DescriptionStyleModel",
            "_view_count": null,
            "_view_module": "@jupyter-widgets/base",
            "_view_module_version": "1.2.0",
            "_view_name": "StyleView",
            "description_width": ""
          }
        },
        "ffc86acbd2964d03a7bf9e6b84ba17ba": {
          "model_module": "@jupyter-widgets/controls",
          "model_name": "ButtonModel",
          "model_module_version": "1.5.0",
          "state": {
            "_dom_classes": [],
            "_model_module": "@jupyter-widgets/controls",
            "_model_module_version": "1.5.0",
            "_model_name": "ButtonModel",
            "_view_count": null,
            "_view_module": "@jupyter-widgets/controls",
            "_view_module_version": "1.5.0",
            "_view_name": "ButtonView",
            "button_style": "",
            "description": "Analyze",
            "disabled": false,
            "icon": "",
            "layout": "IPY_MODEL_8e79c757d10543f9ab22845ebf30ed08",
            "style": "IPY_MODEL_c2b99ae8248c4dbc9a976089bb453bde",
            "tooltip": ""
          }
        },
        "8e79c757d10543f9ab22845ebf30ed08": {
          "model_module": "@jupyter-widgets/base",
          "model_name": "LayoutModel",
          "model_module_version": "1.2.0",
          "state": {
            "_model_module": "@jupyter-widgets/base",
            "_model_module_version": "1.2.0",
            "_model_name": "LayoutModel",
            "_view_count": null,
            "_view_module": "@jupyter-widgets/base",
            "_view_module_version": "1.2.0",
            "_view_name": "LayoutView",
            "align_content": null,
            "align_items": null,
            "align_self": null,
            "border": null,
            "bottom": null,
            "display": null,
            "flex": null,
            "flex_flow": null,
            "grid_area": null,
            "grid_auto_columns": null,
            "grid_auto_flow": null,
            "grid_auto_rows": null,
            "grid_column": null,
            "grid_gap": null,
            "grid_row": null,
            "grid_template_areas": null,
            "grid_template_columns": null,
            "grid_template_rows": null,
            "height": null,
            "justify_content": null,
            "justify_items": null,
            "left": null,
            "margin": null,
            "max_height": null,
            "max_width": null,
            "min_height": null,
            "min_width": null,
            "object_fit": null,
            "object_position": null,
            "order": null,
            "overflow": null,
            "overflow_x": null,
            "overflow_y": null,
            "padding": null,
            "right": null,
            "top": null,
            "visibility": null,
            "width": null
          }
        },
        "c2b99ae8248c4dbc9a976089bb453bde": {
          "model_module": "@jupyter-widgets/controls",
          "model_name": "ButtonStyleModel",
          "model_module_version": "1.5.0",
          "state": {
            "_model_module": "@jupyter-widgets/controls",
            "_model_module_version": "1.5.0",
            "_model_name": "ButtonStyleModel",
            "_view_count": null,
            "_view_module": "@jupyter-widgets/base",
            "_view_module_version": "1.2.0",
            "_view_name": "StyleView",
            "button_color": null,
            "font_weight": ""
          }
        },
        "be4f7f47f45a4dedab712a34bf01b5fc": {
          "model_module": "@jupyter-widgets/output",
          "model_name": "OutputModel",
          "model_module_version": "1.0.0",
          "state": {
            "_dom_classes": [],
            "_model_module": "@jupyter-widgets/output",
            "_model_module_version": "1.0.0",
            "_model_name": "OutputModel",
            "_view_count": null,
            "_view_module": "@jupyter-widgets/output",
            "_view_module_version": "1.0.0",
            "_view_name": "OutputView",
            "layout": "IPY_MODEL_ffb67975d82f4cf0a782b14562be9292",
            "msg_id": "",
            "outputs": []
          }
        },
        "ffb67975d82f4cf0a782b14562be9292": {
          "model_module": "@jupyter-widgets/base",
          "model_name": "LayoutModel",
          "model_module_version": "1.2.0",
          "state": {
            "_model_module": "@jupyter-widgets/base",
            "_model_module_version": "1.2.0",
            "_model_name": "LayoutModel",
            "_view_count": null,
            "_view_module": "@jupyter-widgets/base",
            "_view_module_version": "1.2.0",
            "_view_name": "LayoutView",
            "align_content": null,
            "align_items": null,
            "align_self": null,
            "border": null,
            "bottom": null,
            "display": null,
            "flex": null,
            "flex_flow": null,
            "grid_area": null,
            "grid_auto_columns": null,
            "grid_auto_flow": null,
            "grid_auto_rows": null,
            "grid_column": null,
            "grid_gap": null,
            "grid_row": null,
            "grid_template_areas": null,
            "grid_template_columns": null,
            "grid_template_rows": null,
            "height": null,
            "justify_content": null,
            "justify_items": null,
            "left": null,
            "margin": null,
            "max_height": null,
            "max_width": null,
            "min_height": null,
            "min_width": null,
            "object_fit": null,
            "object_position": null,
            "order": null,
            "overflow": null,
            "overflow_x": null,
            "overflow_y": null,
            "padding": null,
            "right": null,
            "top": null,
            "visibility": null,
            "width": null
          }
        }
      }
    }
  },
  "nbformat": 4,
  "nbformat_minor": 0
}